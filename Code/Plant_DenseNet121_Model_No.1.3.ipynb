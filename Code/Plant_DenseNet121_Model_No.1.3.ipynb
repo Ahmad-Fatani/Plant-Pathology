{
 "cells": [
  {
   "cell_type": "markdown",
   "metadata": {},
   "source": [
    "# Capstone Project_Plant Pathology"
   ]
  },
  {
   "cell_type": "markdown",
   "metadata": {},
   "source": [
    "## DenseNet Model"
   ]
  },
  {
   "cell_type": "markdown",
   "metadata": {},
   "source": [
    "### Import Libraries"
   ]
  },
  {
   "cell_type": "code",
   "execution_count": 2,
   "metadata": {},
   "outputs": [],
   "source": [
    "import pandas as pd\n",
    "import numpy as np\n",
    "import matplotlib.pyplot as plt\n",
    "from datetime import datetime"
   ]
  },
  {
   "cell_type": "code",
   "execution_count": 2,
   "metadata": {},
   "outputs": [],
   "source": [
    "# Data preprocessing\n",
    "from sklearn.model_selection import train_test_split # ML preprocessing\n",
    "\n",
    "# Validation\n",
    "from sklearn.metrics import roc_auc_score"
   ]
  },
  {
   "cell_type": "code",
   "execution_count": 3,
   "metadata": {
    "collapsed": true
   },
   "outputs": [
    {
     "name": "stderr",
     "output_type": "stream",
     "text": [
      "Using TensorFlow backend.\n",
      "C:\\Users\\aafat\\Anaconda3\\lib\\site-packages\\tensorflow\\python\\framework\\dtypes.py:523: FutureWarning: Passing (type, 1) or '1type' as a synonym of type is deprecated; in a future version of numpy, it will be understood as (type, (1,)) / '(1,)type'.\n",
      "  _np_qint8 = np.dtype([(\"qint8\", np.int8, 1)])\n",
      "C:\\Users\\aafat\\Anaconda3\\lib\\site-packages\\tensorflow\\python\\framework\\dtypes.py:524: FutureWarning: Passing (type, 1) or '1type' as a synonym of type is deprecated; in a future version of numpy, it will be understood as (type, (1,)) / '(1,)type'.\n",
      "  _np_quint8 = np.dtype([(\"quint8\", np.uint8, 1)])\n",
      "C:\\Users\\aafat\\Anaconda3\\lib\\site-packages\\tensorflow\\python\\framework\\dtypes.py:525: FutureWarning: Passing (type, 1) or '1type' as a synonym of type is deprecated; in a future version of numpy, it will be understood as (type, (1,)) / '(1,)type'.\n",
      "  _np_qint16 = np.dtype([(\"qint16\", np.int16, 1)])\n",
      "C:\\Users\\aafat\\Anaconda3\\lib\\site-packages\\tensorflow\\python\\framework\\dtypes.py:526: FutureWarning: Passing (type, 1) or '1type' as a synonym of type is deprecated; in a future version of numpy, it will be understood as (type, (1,)) / '(1,)type'.\n",
      "  _np_quint16 = np.dtype([(\"quint16\", np.uint16, 1)])\n",
      "C:\\Users\\aafat\\Anaconda3\\lib\\site-packages\\tensorflow\\python\\framework\\dtypes.py:527: FutureWarning: Passing (type, 1) or '1type' as a synonym of type is deprecated; in a future version of numpy, it will be understood as (type, (1,)) / '(1,)type'.\n",
      "  _np_qint32 = np.dtype([(\"qint32\", np.int32, 1)])\n",
      "C:\\Users\\aafat\\Anaconda3\\lib\\site-packages\\tensorflow\\python\\framework\\dtypes.py:532: FutureWarning: Passing (type, 1) or '1type' as a synonym of type is deprecated; in a future version of numpy, it will be understood as (type, (1,)) / '(1,)type'.\n",
      "  np_resource = np.dtype([(\"resource\", np.ubyte, 1)])\n",
      "C:\\Users\\aafat\\Anaconda3\\lib\\site-packages\\tensorboard\\compat\\tensorflow_stub\\dtypes.py:541: FutureWarning: Passing (type, 1) or '1type' as a synonym of type is deprecated; in a future version of numpy, it will be understood as (type, (1,)) / '(1,)type'.\n",
      "  _np_qint8 = np.dtype([(\"qint8\", np.int8, 1)])\n",
      "C:\\Users\\aafat\\Anaconda3\\lib\\site-packages\\tensorboard\\compat\\tensorflow_stub\\dtypes.py:542: FutureWarning: Passing (type, 1) or '1type' as a synonym of type is deprecated; in a future version of numpy, it will be understood as (type, (1,)) / '(1,)type'.\n",
      "  _np_quint8 = np.dtype([(\"quint8\", np.uint8, 1)])\n",
      "C:\\Users\\aafat\\Anaconda3\\lib\\site-packages\\tensorboard\\compat\\tensorflow_stub\\dtypes.py:543: FutureWarning: Passing (type, 1) or '1type' as a synonym of type is deprecated; in a future version of numpy, it will be understood as (type, (1,)) / '(1,)type'.\n",
      "  _np_qint16 = np.dtype([(\"qint16\", np.int16, 1)])\n",
      "C:\\Users\\aafat\\Anaconda3\\lib\\site-packages\\tensorboard\\compat\\tensorflow_stub\\dtypes.py:544: FutureWarning: Passing (type, 1) or '1type' as a synonym of type is deprecated; in a future version of numpy, it will be understood as (type, (1,)) / '(1,)type'.\n",
      "  _np_quint16 = np.dtype([(\"quint16\", np.uint16, 1)])\n",
      "C:\\Users\\aafat\\Anaconda3\\lib\\site-packages\\tensorboard\\compat\\tensorflow_stub\\dtypes.py:545: FutureWarning: Passing (type, 1) or '1type' as a synonym of type is deprecated; in a future version of numpy, it will be understood as (type, (1,)) / '(1,)type'.\n",
      "  _np_qint32 = np.dtype([(\"qint32\", np.int32, 1)])\n",
      "C:\\Users\\aafat\\Anaconda3\\lib\\site-packages\\tensorboard\\compat\\tensorflow_stub\\dtypes.py:550: FutureWarning: Passing (type, 1) or '1type' as a synonym of type is deprecated; in a future version of numpy, it will be understood as (type, (1,)) / '(1,)type'.\n",
      "  np_resource = np.dtype([(\"resource\", np.ubyte, 1)])\n"
     ]
    }
   ],
   "source": [
    "import keras"
   ]
  },
  {
   "cell_type": "code",
   "execution_count": 4,
   "metadata": {},
   "outputs": [],
   "source": [
    "from keras.layers import Input\n",
    "\n",
    "from keras import layers, models\n",
    "\n",
    "from keras.optimizers import Adam, SGD\n",
    "\n",
    "from keras.callbacks import CSVLogger, LearningRateScheduler\n",
    "\n",
    "from keras.applications import DenseNet121 \n",
    "\n",
    "from keras.models import Sequential\n",
    "from keras.layers import Dense, Dropout, Activation ,Flatten\n",
    "\n",
    "from keras.layers import GlobalAveragePooling2D\n",
    "from keras.models import Model # Define model\n",
    "\n",
    "from keras.callbacks import ReduceLROnPlateau"
   ]
  },
  {
   "cell_type": "code",
   "execution_count": 5,
   "metadata": {},
   "outputs": [],
   "source": [
    "#from keras.utils import to_categorical\n",
    "from keras.preprocessing.image import ImageDataGenerator, array_to_img, img_to_array, load_img ,save_img"
   ]
  },
  {
   "cell_type": "markdown",
   "metadata": {},
   "source": [
    "### Load Dataset"
   ]
  },
  {
   "cell_type": "code",
   "execution_count": 6,
   "metadata": {},
   "outputs": [],
   "source": [
    "test_data = pd.read_csv(\"../Data/test.csv\")\n",
    "train_data = pd.read_csv('../Data/balance_train.csv')"
   ]
  },
  {
   "cell_type": "code",
   "execution_count": 7,
   "metadata": {},
   "outputs": [
    {
     "name": "stdout",
     "output_type": "stream",
     "text": [
      "Wall time: 2min 4s\n"
     ]
    }
   ],
   "source": [
    "%%time\n",
    "images = []\n",
    "for i in train_data['image_id']:\n",
    "    img_path ='..\\images\\\\' + i + '.jpg' # locate the path of image\n",
    "    image = img_to_array(load_img(img_path, target_size=(215, 215,3))) / 255 # this is a PIL image\n",
    "    images.append(image) # add image to the list\n",
    "    \n",
    "test_images = []\n",
    "for i in test_data['image_id']:\n",
    "    img_path ='..\\images\\\\' + i + '.jpg'\n",
    "    image = img_to_array(load_img(img_path, target_size=(215, 215,3))) / 255 # this is a PIL image\n",
    "    test_images.append(image)"
   ]
  },
  {
   "cell_type": "code",
   "execution_count": 8,
   "metadata": {},
   "outputs": [],
   "source": [
    "X = np.array(images) # save images as array\n",
    "X_test = np.array(test_images) # save images as array"
   ]
  },
  {
   "cell_type": "code",
   "execution_count": 9,
   "metadata": {},
   "outputs": [],
   "source": [
    "y = train_data.iloc[:,1:5] # selecting classes as a target"
   ]
  },
  {
   "cell_type": "code",
   "execution_count": 20,
   "metadata": {},
   "outputs": [],
   "source": [
    "y_train = np.array(y.values, dtype='float32')"
   ]
  },
  {
   "cell_type": "code",
   "execution_count": 28,
   "metadata": {},
   "outputs": [
    {
     "data": {
      "text/plain": [
       "((2489, 215, 215, 3), (1821, 215, 215, 3), (2489, 4), (2489, 4))"
      ]
     },
     "execution_count": 28,
     "metadata": {},
     "output_type": "execute_result"
    }
   ],
   "source": [
    "X.shape , X_test.shape , y.shape , y_train.shape"
   ]
  },
  {
   "cell_type": "code",
   "execution_count": 27,
   "metadata": {},
   "outputs": [
    {
     "data": {
      "text/plain": [
       "2489"
      ]
     },
     "execution_count": 27,
     "metadata": {},
     "output_type": "execute_result"
    }
   ],
   "source": [
    "len(y)"
   ]
  },
  {
   "cell_type": "code",
   "execution_count": 29,
   "metadata": {},
   "outputs": [],
   "source": [
    "# split train data to subset data ( train and validation)\n",
    "x_train, x_val, y_train, y_val = train_test_split(X, y , test_size=.30, random_state=42)"
   ]
  },
  {
   "cell_type": "code",
   "execution_count": 30,
   "metadata": {},
   "outputs": [
    {
     "data": {
      "text/plain": [
       "((747, 215, 215, 3), (1742, 215, 215, 3))"
      ]
     },
     "execution_count": 30,
     "metadata": {},
     "output_type": "execute_result"
    }
   ],
   "source": [
    "x_val.shape , x_train.shape"
   ]
  },
  {
   "cell_type": "code",
   "execution_count": 31,
   "metadata": {},
   "outputs": [],
   "source": [
    "densenet = DenseNet121()"
   ]
  },
  {
   "cell_type": "code",
   "execution_count": 32,
   "metadata": {},
   "outputs": [
    {
     "name": "stdout",
     "output_type": "stream",
     "text": [
      "Model: \"model_1\"\n",
      "_________________________________________________________________\n",
      "Layer (type)                 Output Shape              Param #   \n",
      "=================================================================\n",
      "input_2 (InputLayer)         (None, 215, 215, 3)       0         \n",
      "_________________________________________________________________\n",
      "conv2d_1 (Conv2D)            (None, 215, 215, 3)       84        \n",
      "_________________________________________________________________\n",
      "densenet121 (Model)          (None, 1000)              8062504   \n",
      "_________________________________________________________________\n",
      "batch_normalization_1 (Batch (None, 1000)              4000      \n",
      "_________________________________________________________________\n",
      "dense_1 (Dense)              (None, 1742)              1743742   \n",
      "_________________________________________________________________\n",
      "dropout_1 (Dropout)          (None, 1742)              0         \n",
      "_________________________________________________________________\n",
      "dense_2 (Dense)              (None, 747)               1302021   \n",
      "_________________________________________________________________\n",
      "batch_normalization_2 (Batch (None, 747)               2988      \n",
      "_________________________________________________________________\n",
      "dropout_2 (Dropout)          (None, 747)               0         \n",
      "_________________________________________________________________\n",
      "root (Dense)                 (None, 4)                 2992      \n",
      "=================================================================\n",
      "Total params: 11,118,331\n",
      "Trainable params: 11,031,189\n",
      "Non-trainable params: 87,142\n",
      "_________________________________________________________________\n"
     ]
    }
   ],
   "source": [
    "# Define model architecture\n",
    "\n",
    "sd=[]\n",
    "\n",
    "epochs = 10\n",
    "learning_rate = 0.001\n",
    "decay_rate = 5e-6\n",
    "momentum = 0.9\n",
    "\n",
    "input_shape = X[0].shape\n",
    "\n",
    "model=Sequential()\n",
    "\n",
    "x_in = layers.Input(shape=input_shape)\n",
    "\n",
    "x = layers.Conv2D(3, (3, 3), padding='same')(x_in)\n",
    "x = densenet(x)\n",
    "x = layers.BatchNormalization()(x)\n",
    "x = layers.Dense(1742, activation='relu')(x)\n",
    "x = layers.Dropout(0.3)(x)\n",
    "x = layers.Dense(747, activation='relu')(x)\n",
    "x = layers.BatchNormalization()(x)\n",
    "x = layers.Dropout(0.5)(x)\n",
    "\n",
    "output = Dense(4, activation=\"sigmoid\", name=\"root\")(x)\n",
    "\n",
    "model = Model(inputs=x_in, outputs=output)\n",
    "\n",
    "sgd = SGD(lr=learning_rate ,momentum=momentum, decay=decay_rate, nesterov=False)\n",
    "\n",
    "# Compile model\n",
    "model.compile(optimizer=sgd, loss='categorical_crossentropy', metrics=['accuracy'])\n",
    "    \n",
    "learning_rate_reduction = ReduceLROnPlateau(monitor='accuracy', \n",
    "                                            patience=5, \n",
    "                                            verbose=1, \n",
    "                                            factor=0.5, \n",
    "                                            min_lr=0.0001)\n",
    "\n",
    "model.summary() # print model layers"
   ]
  },
  {
   "cell_type": "code",
   "execution_count": 33,
   "metadata": {
    "scrolled": false
   },
   "outputs": [
    {
     "name": "stdout",
     "output_type": "stream",
     "text": [
      "Train on 1742 samples, validate on 747 samples\n",
      "Epoch 1/30\n",
      "1742/1742 [==============================] - 882s 506ms/step - loss: 1.3791 - accuracy: 0.4024 - val_loss: 1.3849 - val_accuracy: 0.2784\n",
      "Epoch 2/30\n",
      "1742/1742 [==============================] - 831s 477ms/step - loss: 0.9247 - accuracy: 0.6906 - val_loss: 1.3731 - val_accuracy: 0.2825\n",
      "Epoch 3/30\n",
      "1742/1742 [==============================] - 836s 480ms/step - loss: 0.6927 - accuracy: 0.8088 - val_loss: 1.3397 - val_accuracy: 0.3414\n",
      "Epoch 4/30\n",
      "1742/1742 [==============================] - 816s 469ms/step - loss: 0.5427 - accuracy: 0.8467 - val_loss: 1.2377 - val_accuracy: 0.4833\n",
      "Epoch 5/30\n",
      "1742/1742 [==============================] - 796s 457ms/step - loss: 0.4433 - accuracy: 0.8731 - val_loss: 1.0839 - val_accuracy: 0.5850\n",
      "Epoch 6/30\n",
      "1742/1742 [==============================] - 805s 462ms/step - loss: 0.3410 - accuracy: 0.8995 - val_loss: 0.8658 - val_accuracy: 0.7216\n",
      "Epoch 7/30\n",
      "1742/1742 [==============================] - 856s 491ms/step - loss: 0.3234 - accuracy: 0.9030 - val_loss: 0.8755 - val_accuracy: 0.6734\n",
      "Epoch 8/30\n",
      "1742/1742 [==============================] - 937s 538ms/step - loss: 0.2525 - accuracy: 0.9271 - val_loss: 0.4929 - val_accuracy: 0.8688\n",
      "Epoch 9/30\n",
      "1742/1742 [==============================] - 926s 532ms/step - loss: 0.2014 - accuracy: 0.9466 - val_loss: 0.3729 - val_accuracy: 0.8916\n",
      "Epoch 10/30\n",
      "1742/1742 [==============================] - 878s 504ms/step - loss: 0.1944 - accuracy: 0.9512 - val_loss: 0.3231 - val_accuracy: 0.8969\n",
      "Epoch 11/30\n",
      "1742/1742 [==============================] - 853s 490ms/step - loss: 0.1855 - accuracy: 0.9552 - val_loss: 0.3417 - val_accuracy: 0.8996\n",
      "Epoch 12/30\n",
      "1742/1742 [==============================] - 858s 492ms/step - loss: 0.1488 - accuracy: 0.9679 - val_loss: 0.3189 - val_accuracy: 0.9143\n",
      "Epoch 13/30\n",
      "1742/1742 [==============================] - 848s 487ms/step - loss: 0.1145 - accuracy: 0.9684 - val_loss: 0.3087 - val_accuracy: 0.9116\n",
      "Epoch 14/30\n",
      "1742/1742 [==============================] - 832s 478ms/step - loss: 0.1049 - accuracy: 0.9782 - val_loss: 0.3292 - val_accuracy: 0.9036\n",
      "Epoch 15/30\n",
      "1742/1742 [==============================] - 829s 476ms/step - loss: 0.1142 - accuracy: 0.9696 - val_loss: 0.4721 - val_accuracy: 0.8541\n",
      "Epoch 16/30\n",
      "1742/1742 [==============================] - 817s 469ms/step - loss: 0.1222 - accuracy: 0.9684 - val_loss: 0.4274 - val_accuracy: 0.8983\n",
      "Epoch 17/30\n",
      "1742/1742 [==============================] - 819s 470ms/step - loss: 0.1120 - accuracy: 0.9753 - val_loss: 0.3694 - val_accuracy: 0.9036\n",
      "Epoch 18/30\n",
      "1742/1742 [==============================] - 819s 470ms/step - loss: 0.0871 - accuracy: 0.9788 - val_loss: 0.4987 - val_accuracy: 0.8835\n",
      "Epoch 19/30\n",
      "1742/1742 [==============================] - 829s 476ms/step - loss: 0.0690 - accuracy: 0.9845 - val_loss: 0.4340 - val_accuracy: 0.9090\n",
      "Epoch 20/30\n",
      "1742/1742 [==============================] - 826s 474ms/step - loss: 0.0977 - accuracy: 0.9759 - val_loss: 0.5478 - val_accuracy: 0.8635\n",
      "Epoch 21/30\n",
      "1742/1742 [==============================] - 822s 472ms/step - loss: 0.0923 - accuracy: 0.9805 - val_loss: 0.5266 - val_accuracy: 0.8822\n",
      "Epoch 22/30\n",
      "1742/1742 [==============================] - 820s 471ms/step - loss: 0.0651 - accuracy: 0.9874 - val_loss: 0.3364 - val_accuracy: 0.9237\n",
      "Epoch 23/30\n",
      "1742/1742 [==============================] - 818s 469ms/step - loss: 0.0663 - accuracy: 0.9885 - val_loss: 0.5370 - val_accuracy: 0.8661\n",
      "Epoch 24/30\n",
      "1742/1742 [==============================] - 811s 466ms/step - loss: 0.1002 - accuracy: 0.9759 - val_loss: 0.3313 - val_accuracy: 0.9224\n",
      "Epoch 25/30\n",
      "1742/1742 [==============================] - 806s 463ms/step - loss: 0.0958 - accuracy: 0.9759 - val_loss: 0.3360 - val_accuracy: 0.9157\n",
      "Epoch 26/30\n",
      "1742/1742 [==============================] - 817s 469ms/step - loss: 0.0609 - accuracy: 0.9874 - val_loss: 0.2881 - val_accuracy: 0.9290\n",
      "Epoch 27/30\n",
      "1742/1742 [==============================] - 889s 511ms/step - loss: 0.0667 - accuracy: 0.9856 - val_loss: 0.3586 - val_accuracy: 0.9277\n",
      "Epoch 28/30\n",
      "1742/1742 [==============================] - 879s 505ms/step - loss: 0.0412 - accuracy: 0.9914 - val_loss: 0.6515 - val_accuracy: 0.8822\n",
      "Epoch 29/30\n",
      "1742/1742 [==============================] - 863s 495ms/step - loss: 0.0971 - accuracy: 0.9759 - val_loss: 0.5824 - val_accuracy: 0.8835\n",
      "Epoch 30/30\n",
      "1742/1742 [==============================] - 865s 497ms/step - loss: 0.0477 - accuracy: 0.9879 - val_loss: 0.2946 - val_accuracy: 0.9357\n"
     ]
    }
   ],
   "source": [
    "# Fitting the model\n",
    "den_hist = model.fit(x_train,y_train,epochs=30,verbose=1,validation_data=(x_val,y_val))"
   ]
  },
  {
   "cell_type": "code",
   "execution_count": 35,
   "metadata": {},
   "outputs": [
    {
     "data": {
      "text/plain": [
       "dict_keys(['val_loss', 'val_accuracy', 'loss', 'accuracy'])"
      ]
     },
     "execution_count": 35,
     "metadata": {},
     "output_type": "execute_result"
    }
   ],
   "source": [
    "den_hist.history.keys()"
   ]
  },
  {
   "cell_type": "code",
   "execution_count": 48,
   "metadata": {
    "scrolled": false
   },
   "outputs": [
    {
     "data": {
      "text/plain": [
       "<matplotlib.legend.Legend at 0x14222f513c8>"
      ]
     },
     "execution_count": 48,
     "metadata": {},
     "output_type": "execute_result"
    },
    {
     "data": {
      "image/png": "[encoded data removed]",
      "text/plain": [
       "<Figure size 648x360 with 1 Axes>"
      ]
     },
     "metadata": {
      "needs_background": "light"
     },
     "output_type": "display_data"
    }
   ],
   "source": [
    "# summarize history for accuracy\n",
    "fig = plt.figure(figsize=(9,5))\n",
    "plt.plot(den_hist.history['accuracy'])\n",
    "plt.plot(den_hist.history['val_accuracy'])\n",
    "plt.title('DenseNet model')\n",
    "plt.ylabel('accuracy')\n",
    "plt.xlabel('epoch')\n",
    "plt.legend(['train', 'test'], loc='upper left')\n",
    "# plt.savefig('DenseNet model accuracy', bbox_inches='tight', transparent=False, dpi='figure', quality=95)"
   ]
  },
  {
   "cell_type": "code",
   "execution_count": 38,
   "metadata": {
    "scrolled": false
   },
   "outputs": [
    {
     "data": {
      "text/plain": [
       "<matplotlib.legend.Legend at 0x14222e7ce08>"
      ]
     },
     "execution_count": 38,
     "metadata": {},
     "output_type": "execute_result"
    },
    {
     "data": {
      "image/png": "[encoded data removed]",
      "text/plain": [
       "<Figure size 648x360 with 1 Axes>"
      ]
     },
     "metadata": {
      "needs_background": "light"
     },
     "output_type": "display_data"
    }
   ],
   "source": [
    "# summarize history for loss\n",
    "fig = plt.figure(figsize=(9,5))\n",
    "plt.plot(den_hist.history['loss'])\n",
    "plt.plot(den_hist.history['val_loss'])\n",
    "plt.title('DenseNet model')\n",
    "plt.ylabel('loss')\n",
    "plt.xlabel('epoch')\n",
    "plt.legend(['train', 'test'], loc='upper left')\n",
    "# plt.savefig('DenseNet model accuracy', bbox_inches='tight', transparent=False, dpi='figure', quality=95)"
   ]
  },
  {
   "cell_type": "code",
   "execution_count": 39,
   "metadata": {},
   "outputs": [],
   "source": [
    "# Make prediction\n",
    "\n",
    "predict = model.predict(X_test)"
   ]
  },
  {
   "cell_type": "code",
   "execution_count": 40,
   "metadata": {},
   "outputs": [],
   "source": [
    "prediction = np.ndarray(shape = (test_data.shape[0],4), dtype = np.float32)\n",
    "for row in range(test_data.shape[0]):\n",
    "    for col in range(4):\n",
    "        if predict[row][col] == max(predict[row]):\n",
    "            prediction[row][col] = 1\n",
    "        else:\n",
    "            prediction[row][col] = 0\n",
    "            \n",
    "prediction = pd.DataFrame(prediction)\n",
    "prediction.columns = ['healthy', 'multiple_diseases', 'rust', 'scab']\n",
    "df2 = pd.concat([test_data.image_id, prediction], axis = 1)"
   ]
  },
  {
   "cell_type": "markdown",
   "metadata": {},
   "source": [
    "## Save model"
   ]
  },
  {
   "cell_type": "code",
   "execution_count": 43,
   "metadata": {},
   "outputs": [],
   "source": [
    "import pickle\n",
    "# save the model to disk\n",
    "filename = 'Plant_2489_DenseNet121_ep30_lr0_001_v3.sav'\n",
    "pickle.dump(model, open(filename, 'wb'))\n",
    "filename2 = 'Plant_2489_DenseNet121_ep30_lr0_001_v3.pkl'\n",
    "pickle.dump(model, open(filename2, 'wb'))"
   ]
  },
  {
   "cell_type": "markdown",
   "metadata": {},
   "source": [
    "## Prediction"
   ]
  },
  {
   "cell_type": "code",
   "execution_count": 44,
   "metadata": {},
   "outputs": [
    {
     "name": "stdout",
     "output_type": "stream",
     "text": [
      "roc_auc score : 0.984\n"
     ]
    }
   ],
   "source": [
    "# prediction\n",
    "y_pred = model.predict(x_val)\n",
    "\n",
    "# print roc74_auc score\n",
    "print(\"roc_auc score : {}\".format(roc_auc_score(y_true= y_val, y_score=y_pred, average=\"weighted\").round(3)))"
   ]
  },
  {
   "cell_type": "code",
   "execution_count": 45,
   "metadata": {},
   "outputs": [
    {
     "data": {
      "text/html": [
       "<div>\n",
       "<style scoped>\n",
       "    .dataframe tbody tr th:only-of-type {\n",
       "        vertical-align: middle;\n",
       "    }\n",
       "\n",
       "    .dataframe tbody tr th {\n",
       "        vertical-align: top;\n",
       "    }\n",
       "\n",
       "    .dataframe thead th {\n",
       "        text-align: right;\n",
       "    }\n",
       "</style>\n",
       "<table border=\"1\" class=\"dataframe\">\n",
       "  <thead>\n",
       "    <tr style=\"text-align: right;\">\n",
       "      <th></th>\n",
       "      <th>image_id</th>\n",
       "      <th>healthy</th>\n",
       "      <th>multiple_diseases</th>\n",
       "      <th>rust</th>\n",
       "      <th>scab</th>\n",
       "    </tr>\n",
       "  </thead>\n",
       "  <tbody>\n",
       "    <tr>\n",
       "      <td>0</td>\n",
       "      <td>Test_0</td>\n",
       "      <td>0.0</td>\n",
       "      <td>0.0</td>\n",
       "      <td>1.0</td>\n",
       "      <td>0.0</td>\n",
       "    </tr>\n",
       "    <tr>\n",
       "      <td>1</td>\n",
       "      <td>Test_1</td>\n",
       "      <td>0.0</td>\n",
       "      <td>0.0</td>\n",
       "      <td>1.0</td>\n",
       "      <td>0.0</td>\n",
       "    </tr>\n",
       "    <tr>\n",
       "      <td>2</td>\n",
       "      <td>Test_2</td>\n",
       "      <td>0.0</td>\n",
       "      <td>0.0</td>\n",
       "      <td>0.0</td>\n",
       "      <td>1.0</td>\n",
       "    </tr>\n",
       "    <tr>\n",
       "      <td>3</td>\n",
       "      <td>Test_3</td>\n",
       "      <td>1.0</td>\n",
       "      <td>0.0</td>\n",
       "      <td>0.0</td>\n",
       "      <td>0.0</td>\n",
       "    </tr>\n",
       "    <tr>\n",
       "      <td>4</td>\n",
       "      <td>Test_4</td>\n",
       "      <td>0.0</td>\n",
       "      <td>0.0</td>\n",
       "      <td>1.0</td>\n",
       "      <td>0.0</td>\n",
       "    </tr>\n",
       "    <tr>\n",
       "      <td>...</td>\n",
       "      <td>...</td>\n",
       "      <td>...</td>\n",
       "      <td>...</td>\n",
       "      <td>...</td>\n",
       "      <td>...</td>\n",
       "    </tr>\n",
       "    <tr>\n",
       "      <td>1816</td>\n",
       "      <td>Test_1816</td>\n",
       "      <td>0.0</td>\n",
       "      <td>0.0</td>\n",
       "      <td>1.0</td>\n",
       "      <td>0.0</td>\n",
       "    </tr>\n",
       "    <tr>\n",
       "      <td>1817</td>\n",
       "      <td>Test_1817</td>\n",
       "      <td>0.0</td>\n",
       "      <td>1.0</td>\n",
       "      <td>0.0</td>\n",
       "      <td>0.0</td>\n",
       "    </tr>\n",
       "    <tr>\n",
       "      <td>1818</td>\n",
       "      <td>Test_1818</td>\n",
       "      <td>0.0</td>\n",
       "      <td>0.0</td>\n",
       "      <td>1.0</td>\n",
       "      <td>0.0</td>\n",
       "    </tr>\n",
       "    <tr>\n",
       "      <td>1819</td>\n",
       "      <td>Test_1819</td>\n",
       "      <td>1.0</td>\n",
       "      <td>0.0</td>\n",
       "      <td>0.0</td>\n",
       "      <td>0.0</td>\n",
       "    </tr>\n",
       "    <tr>\n",
       "      <td>1820</td>\n",
       "      <td>Test_1820</td>\n",
       "      <td>0.0</td>\n",
       "      <td>0.0</td>\n",
       "      <td>0.0</td>\n",
       "      <td>1.0</td>\n",
       "    </tr>\n",
       "  </tbody>\n",
       "</table>\n",
       "<p>1821 rows × 5 columns</p>\n",
       "</div>"
      ],
      "text/plain": [
       "       image_id  healthy  multiple_diseases  rust  scab\n",
       "0        Test_0      0.0                0.0   1.0   0.0\n",
       "1        Test_1      0.0                0.0   1.0   0.0\n",
       "2        Test_2      0.0                0.0   0.0   1.0\n",
       "3        Test_3      1.0                0.0   0.0   0.0\n",
       "4        Test_4      0.0                0.0   1.0   0.0\n",
       "...         ...      ...                ...   ...   ...\n",
       "1816  Test_1816      0.0                0.0   1.0   0.0\n",
       "1817  Test_1817      0.0                1.0   0.0   0.0\n",
       "1818  Test_1818      0.0                0.0   1.0   0.0\n",
       "1819  Test_1819      1.0                0.0   0.0   0.0\n",
       "1820  Test_1820      0.0                0.0   0.0   1.0\n",
       "\n",
       "[1821 rows x 5 columns]"
      ]
     },
     "execution_count": 45,
     "metadata": {},
     "output_type": "execute_result"
    }
   ],
   "source": [
    "df2"
   ]
  },
  {
   "cell_type": "code",
   "execution_count": 46,
   "metadata": {},
   "outputs": [],
   "source": [
    "df2.to_csv('Plant_DenseNet121_ep30_lr0_001_v3_test_imgs.csv', index = False)"
   ]
  },
  {
   "cell_type": "code",
   "execution_count": 47,
   "metadata": {},
   "outputs": [
    {
     "name": "stdout",
     "output_type": "stream",
     "text": [
      "747/747 [==============================] - 102s 137ms/step\n",
      "Test accuracy: 0.936\n",
      "Test loss: 0.295\n"
     ]
    }
   ],
   "source": [
    "#Check score on testing data\n",
    "loss_test, acc_test = model.evaluate(x_val, y_val)\n",
    "\n",
    "print(f'Test accuracy: {acc_test:.3f}')\n",
    "print(f'Test loss: {loss_test:.3f}')"
   ]
  }
 ],
 "metadata": {
  "kernelspec": {
   "display_name": "Python 3",
   "language": "python",
   "name": "python3"
  },
  "language_info": {
   "codemirror_mode": {
    "name": "ipython",
    "version": 3
   },
   "file_extension": ".py",
   "mimetype": "text/x-python",
   "name": "python",
   "nbconvert_exporter": "python",
   "pygments_lexer": "ipython3",
   "version": "3.7.4"
  }
 },
 "nbformat": 4,
 "nbformat_minor": 2
}
