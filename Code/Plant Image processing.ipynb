{
 "cells": [
  {
   "cell_type": "markdown",
   "metadata": {},
   "source": [
    "# Image processing and augmentation"
   ]
  },
  {
   "cell_type": "code",
   "execution_count": 1,
   "metadata": {},
   "outputs": [],
   "source": [
    "# import libraries\n",
    "import pandas as pd\n",
    "import numpy as np\n",
    "import matplotlib.pyplot as plt\n",
    "import seaborn as sns\n",
    "import datetime\n",
    "import math\n",
    "import cv2\n",
    "from matplotlib.image import imread\n",
    "from datetime import datetime\n",
    "from skimage import exposure\n",
    "import random"
   ]
  },
  {
   "cell_type": "code",
   "execution_count": 2,
   "metadata": {},
   "outputs": [
    {
     "name": "stderr",
     "output_type": "stream",
     "text": [
      "Using TensorFlow backend.\n"
     ]
    }
   ],
   "source": [
    "from keras.preprocessing.image import ImageDataGenerator, array_to_img, img_to_array, load_img ,save_img"
   ]
  },
  {
   "cell_type": "markdown",
   "metadata": {},
   "source": [
    "## Load Data"
   ]
  },
  {
   "cell_type": "code",
   "execution_count": 3,
   "metadata": {},
   "outputs": [],
   "source": [
    "test_data = pd.read_csv(\"../Data/test.csv\")\n",
    "train_data = pd.read_csv(\"../Data/train.csv\")"
   ]
  },
  {
   "cell_type": "markdown",
   "metadata": {},
   "source": [
    "## Unbalanced Data"
   ]
  },
  {
   "cell_type": "code",
   "execution_count": 4,
   "metadata": {},
   "outputs": [
    {
     "data": {
      "text/plain": [
       "healthy              516\n",
       "rust                 622\n",
       "scab                 592\n",
       "multiple_diseases     91\n",
       "Name: 1, dtype: int64"
      ]
     },
     "execution_count": 4,
     "metadata": {},
     "output_type": "execute_result"
    }
   ],
   "source": [
    "Healthy = train_data['healthy'].value_counts()\n",
    "Rust = train_data['rust'].value_counts()\n",
    "Scab = train_data['scab'].value_counts()\n",
    "Multiple_diseases = train_data['multiple_diseases'].value_counts()\n",
    "\n",
    "df = pd.DataFrame([Healthy ,Rust,Scab,Multiple_diseases] )\n",
    "df.columns = ['0', '1'] \n",
    "df['1']"
   ]
  },
  {
   "cell_type": "markdown",
   "metadata": {},
   "source": [
    "## Over Sampling"
   ]
  },
  {
   "cell_type": "code",
   "execution_count": 5,
   "metadata": {},
   "outputs": [],
   "source": [
    "# A function to generate images\n",
    "\n",
    "def Generate_Images(class_) :\n",
    "\n",
    "    start=datetime.now()\n",
    "\n",
    "    generator = ImageDataGenerator(horizontal_flip=True ,rotation_range=90, brightness_range=[0.2,1.0])\n",
    "\n",
    "    class_count = train_data[train_data[class_]== 1]['image_id'].count()\n",
    "    max_values_count = df['1'].max()\n",
    "    \n",
    "    diff =  max_values_count - class_count\n",
    "    \n",
    "    while  class_count < max_values_count:\n",
    "\n",
    "        selected_randomly = train_data[train_data[class_]== 1].sample(n = 1) \n",
    "\n",
    "        img_id = selected_randomly['image_id'].iloc[0]\n",
    "        image = load_img('..\\images\\\\' + img_id + '.jpg') # this is a PIL image\n",
    "\n",
    "        image = img_to_array(image)\n",
    "        image = image.reshape((1,) + image.shape)\n",
    "\n",
    "        generator.fit(image)\n",
    "        iterator = generator.flow(image,batch_size=1)\n",
    "        Epochs = 2 \n",
    "        if diff > 200 :\n",
    "            Epochs = 4\n",
    "        for Epoch in range(Epochs):\n",
    "\n",
    "            image = iterator.next()[0].astype('uint8')\n",
    "        \n",
    "            img_id = 'Add_Train_' +str(len(train_data.index)) \n",
    "            img_name = '..\\images\\\\Add_Train_' +str(len(train_data.index)) +\".jpg\"\n",
    "            # save the image with a new filename\n",
    "            save_img(img_name, image)\n",
    "            \n",
    "            #healthy\tmultiple_diseases\trust\tscab\n",
    "            \n",
    "            if class_ == 'healthy' :\n",
    "                train_data.loc[len(train_data.index)] = [img_id,1,0 ,0,0] \n",
    "            elif class_ == 'multiple_diseases' :\n",
    "                train_data.loc[len(train_data.index)] = [img_id,0,1 ,0,0] \n",
    "            elif class_ == 'scab' :\n",
    "                train_data.loc[len(train_data.index)] = [img_id,0,0 ,0,1] \n",
    "\n",
    "        class_count = train_data[train_data[class_]== 1]['image_id'].count()\n",
    "    print('Number of images added : ', diff)\n",
    "    print ('Time : ', datetime.now()-start)"
   ]
  },
  {
   "cell_type": "code",
   "execution_count": 6,
   "metadata": {},
   "outputs": [
    {
     "name": "stdout",
     "output_type": "stream",
     "text": [
      "Generate scab Images \n",
      "Number of images added :  30\n",
      "Time :  0:00:31.896447\n",
      "Generate helthy Images \n",
      "Number of images added :  106\n",
      "Time :  0:01:43.632266\n",
      "Generate multiple diseases Images \n",
      "Number of images added :  531\n",
      "Time :  0:08:16.811861\n"
     ]
    }
   ],
   "source": [
    "## scab \n",
    "print('Generate scab Images ')\n",
    "Generate_Images('scab')\n",
    "\n",
    "## helthy \n",
    "print('Generate helthy Images ')\n",
    "Generate_Images('healthy')\n",
    "\n",
    "## multiple diseases\n",
    "print('Generate multiple diseases Images ')\n",
    "Generate_Images('multiple_diseases')"
   ]
  },
  {
   "cell_type": "code",
   "execution_count": 7,
   "metadata": {},
   "outputs": [
    {
     "data": {
      "text/plain": [
       "healthy              622\n",
       "rust                 622\n",
       "scab                 622\n",
       "multiple_diseases    623\n",
       "Name: 1, dtype: int64"
      ]
     },
     "execution_count": 7,
     "metadata": {},
     "output_type": "execute_result"
    }
   ],
   "source": [
    "Healthy = train_data['healthy'].value_counts()\n",
    "Rust = train_data['rust'].value_counts()\n",
    "Scab = train_data['scab'].value_counts()\n",
    "Multiple_diseases = train_data['multiple_diseases'].value_counts()\n",
    "\n",
    "df = pd.DataFrame([Healthy ,Rust,Scab,Multiple_diseases] )\n",
    "df.columns = ['0', '1'] \n",
    "df['1']"
   ]
  },
  {
   "cell_type": "code",
   "execution_count": 8,
   "metadata": {},
   "outputs": [],
   "source": [
    "train_data.to_csv('..\\\\Data\\\\balance_train.csv', index=False)"
   ]
  },
  {
   "cell_type": "markdown",
   "metadata": {},
   "source": [
    "# Image Augmentation"
   ]
  },
  {
   "cell_type": "code",
   "execution_count": 9,
   "metadata": {},
   "outputs": [],
   "source": [
    "add_train_data = pd.read_csv(\"..\\Data\\\\balance_train.csv\")"
   ]
  },
  {
   "cell_type": "code",
   "execution_count": 10,
   "metadata": {},
   "outputs": [],
   "source": [
    "def random_image():\n",
    "    \n",
    "    selected_randomly = train_data.sample(n = 1) \n",
    "    img_id = selected_randomly['image_id'].iloc[0]\n",
    "\n",
    "    image = load_img('..\\images\\\\' + img_id + '.jpg') # this is a PIL image\n",
    "    image = img_to_array(image)\n",
    "    \n",
    "    return image"
   ]
  },
  {
   "cell_type": "code",
   "execution_count": 11,
   "metadata": {},
   "outputs": [],
   "source": [
    "def add_to_df(img_id,class_):\n",
    "    if class_ == 'healthy' :\n",
    "        add_train_data.loc[len(add_train_data.index)] = [img_id,1,0 ,0,0] \n",
    "    elif class_ == 'multiple_diseases' :\n",
    "        add_train_data.loc[len(add_train_data.index)] = [img_id,0,1 ,0,0] \n",
    "    elif class_ == 'rust' :\n",
    "        add_train_data.loc[len(add_train_data.index)] = [img_id,0,0 ,1,0] \n",
    "    elif class_ == 'scab' :\n",
    "        add_train_data.loc[len(add_train_data.index)] = [img_id,0,0 ,0,1] "
   ]
  },
  {
   "cell_type": "markdown",
   "metadata": {},
   "source": [
    "### Blur Train Images"
   ]
  },
  {
   "cell_type": "code",
   "execution_count": 12,
   "metadata": {},
   "outputs": [
    {
     "name": "stdout",
     "output_type": "stream",
     "text": [
      "Wall time: 0 ns\n"
     ]
    }
   ],
   "source": [
    "%%time\n",
    "def bluring(class_ ,loops):\n",
    "    \n",
    "    for i in range(loops):\n",
    "\n",
    "        image = random_image()\n",
    "        image = cv2.blur(image, (30, 30))\n",
    "        img_id = 'blured_' +str(len(add_train_data.index)) \n",
    "        img_name = '..\\images\\\\' + img_id +\".jpg\"\n",
    "        # save the image with a new filename\n",
    "        save_img(img_name, image)\n",
    "        add_to_df(img_id, class_)"
   ]
  },
  {
   "cell_type": "markdown",
   "metadata": {},
   "source": [
    "### Brightness "
   ]
  },
  {
   "cell_type": "code",
   "execution_count": 13,
   "metadata": {},
   "outputs": [
    {
     "name": "stdout",
     "output_type": "stream",
     "text": [
      "Wall time: 0 ns\n"
     ]
    }
   ],
   "source": [
    "%%time\n",
    "def brightness(class_ ,loops) :\n",
    "    for i in range(loops):\n",
    "\n",
    "        image = random_image()\n",
    "        # adjust just the input max value for bright   \n",
    "        image = exposure.rescale_intensity(image, in_range=(0,200), out_range=(0,255))\n",
    "        \n",
    "        img_id = 'bright_' +str(len(add_train_data.index)) \n",
    "        img_name = '..\\images\\\\' + img_id +\".jpg\"\n",
    "        # save the image with a new filename\n",
    "        save_img(img_name, image)\n",
    "        add_to_df(img_id ,class_)"
   ]
  },
  {
   "cell_type": "markdown",
   "metadata": {},
   "source": [
    "### Add Noise Images"
   ]
  },
  {
   "cell_type": "code",
   "execution_count": 14,
   "metadata": {},
   "outputs": [
    {
     "name": "stdout",
     "output_type": "stream",
     "text": [
      "Wall time: 0 ns\n"
     ]
    }
   ],
   "source": [
    "%%time\n",
    "\n",
    "#Add random noise to an image\n",
    "def add_noise(class_no ,loops ):\n",
    "    VARIABILITY = 50\n",
    "    \n",
    "    for i in range(loops):\n",
    "\n",
    "        image = random_image()\n",
    "   \n",
    "        deviation = VARIABILITY*random.uniform(0.2,0.5)\n",
    "        noise = np.random.normal(0, deviation, image.shape)\n",
    "        image += noise\n",
    "        np.clip(image, 0., 255.)\n",
    "\n",
    "        img_id = 'noise_' +str(len(add_train_data.index)) \n",
    "        img_name = '..\\images\\\\' + img_id +\".jpg\"\n",
    "        \n",
    "        # save the image with a new filename\n",
    "        save_img(img_name, image)\n",
    "        add_to_df(img_id, class_)"
   ]
  },
  {
   "cell_type": "markdown",
   "metadata": {},
   "source": [
    "### Iterate through images"
   ]
  },
  {
   "cell_type": "code",
   "execution_count": 15,
   "metadata": {},
   "outputs": [
    {
     "name": "stdout",
     "output_type": "stream",
     "text": [
      "healthy\n",
      "multiple_diseases\n",
      "rust\n",
      "scab\n"
     ]
    }
   ],
   "source": [
    "loops =10 \n",
    "classes = ['healthy','multiple_diseases','rust','scab']\n",
    "for class_ in classes:\n",
    "    print(class_)\n",
    "    bluring(class_ ,loops)\n",
    "    brightness(class_ ,loops)\n",
    "    add_noise(class_ ,loops )"
   ]
  },
  {
   "cell_type": "code",
   "execution_count": 16,
   "metadata": {},
   "outputs": [],
   "source": [
    "train_data.to_csv('..\\\\Data\\\\train_extra_imgs.csv', index=False)"
   ]
  },
  {
   "cell_type": "markdown",
   "metadata": {},
   "source": [
    "### Crop Test Images using Canny Edge detection"
   ]
  },
  {
   "cell_type": "code",
   "execution_count": 17,
   "metadata": {},
   "outputs": [],
   "source": [
    "# Canny Edge detection\n",
    "for i in test_data['image_id']:\n",
    "    img = cv2.imread( '..\\images\\\\' + i + '.jpg')\n",
    "    canny = cv2.Canny(img, 50, 200)\n",
    "    ## find the non-zero min-max coords of canny\n",
    "    pts = np.argwhere(canny>0)\n",
    "    y1,x1 = pts.min(axis=0)\n",
    "    y2,x2 = pts.max(axis=0)\n",
    "    ## crop the region\n",
    "    cropped = img[y1:y2, x1:x2]\n",
    "    cv2.imwrite( '..\\images\\cropped_' + i + \".jpg\", cropped)"
   ]
  }
 ],
 "metadata": {
  "kernelspec": {
   "display_name": "Python 3",
   "language": "python",
   "name": "python3"
  },
  "language_info": {
   "codemirror_mode": {
    "name": "ipython",
    "version": 3
   },
   "file_extension": ".py",
   "mimetype": "text/x-python",
   "name": "python",
   "nbconvert_exporter": "python",
   "pygments_lexer": "ipython3",
   "version": "3.7.4"
  }
 },
 "nbformat": 4,
 "nbformat_minor": 2
}
